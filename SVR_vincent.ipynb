{
 "cells": [
  {
   "cell_type": "code",
   "execution_count": 1,
   "id": "7564fe50",
   "metadata": {},
   "outputs": [],
   "source": [
    "import pandas as pd\n",
    "import numpy as np\n",
    "import matplotlib.pyplot as plt\n",
    "import requests\n",
    "from time import sleep\n",
    "import yfinance as yf\n",
    "import datetime"
   ]
  },
  {
   "cell_type": "code",
   "execution_count": 2,
   "id": "357518a2",
   "metadata": {},
   "outputs": [],
   "source": [
    "bbh =  ['BP', 'SHEL']\n",
    "other_etfs = ['SPY', 'IBB', 'XBI', 'FBT', 'PBE', 'BIB']\n",
    "symbols = bbh + other_etfs"
   ]
  },
  {
   "cell_type": "code",
   "execution_count": 3,
   "id": "3fe720ac",
   "metadata": {},
   "outputs": [
    {
     "name": "stdout",
     "output_type": "stream",
     "text": [
      "[*********************100%%**********************]  1 of 1 completed\n",
      "[*********************100%%**********************]  1 of 1 completed\n",
      "[*********************100%%**********************]  1 of 1 completed\n",
      "[*********************100%%**********************]  1 of 1 completed\n",
      "[*********************100%%**********************]  1 of 1 completed\n",
      "[*********************100%%**********************]  1 of 1 completed\n",
      "[*********************100%%**********************]  1 of 1 completed\n",
      "[*********************100%%**********************]  1 of 1 completed\n"
     ]
    },
    {
     "data": {
      "text/html": [
       "<div>\n",
       "<style scoped>\n",
       "    .dataframe tbody tr th:only-of-type {\n",
       "        vertical-align: middle;\n",
       "    }\n",
       "\n",
       "    .dataframe tbody tr th {\n",
       "        vertical-align: top;\n",
       "    }\n",
       "\n",
       "    .dataframe thead th {\n",
       "        text-align: right;\n",
       "    }\n",
       "</style>\n",
       "<table border=\"1\" class=\"dataframe\">\n",
       "  <thead>\n",
       "    <tr style=\"text-align: right;\">\n",
       "      <th></th>\n",
       "      <th>BP</th>\n",
       "      <th>SHEL</th>\n",
       "      <th>SPY</th>\n",
       "      <th>IBB</th>\n",
       "      <th>XBI</th>\n",
       "      <th>FBT</th>\n",
       "      <th>PBE</th>\n",
       "      <th>BIB</th>\n",
       "    </tr>\n",
       "    <tr>\n",
       "      <th>Date</th>\n",
       "      <th></th>\n",
       "      <th></th>\n",
       "      <th></th>\n",
       "      <th></th>\n",
       "      <th></th>\n",
       "      <th></th>\n",
       "      <th></th>\n",
       "      <th></th>\n",
       "    </tr>\n",
       "  </thead>\n",
       "  <tbody>\n",
       "    <tr>\n",
       "      <th>2022-01-03</th>\n",
       "      <td>25.052795</td>\n",
       "      <td>41.769161</td>\n",
       "      <td>464.923431</td>\n",
       "      <td>151.588593</td>\n",
       "      <td>115.436050</td>\n",
       "      <td>163.070007</td>\n",
       "      <td>71.414108</td>\n",
       "      <td>82.282516</td>\n",
       "    </tr>\n",
       "    <tr>\n",
       "      <th>2022-01-04</th>\n",
       "      <td>26.132891</td>\n",
       "      <td>43.013634</td>\n",
       "      <td>464.767639</td>\n",
       "      <td>147.529526</td>\n",
       "      <td>111.356194</td>\n",
       "      <td>159.059998</td>\n",
       "      <td>68.724709</td>\n",
       "      <td>78.313835</td>\n",
       "    </tr>\n",
       "    <tr>\n",
       "      <th>2022-01-05</th>\n",
       "      <td>25.968132</td>\n",
       "      <td>43.032349</td>\n",
       "      <td>455.843109</td>\n",
       "      <td>141.769226</td>\n",
       "      <td>105.226402</td>\n",
       "      <td>154.229996</td>\n",
       "      <td>65.825348</td>\n",
       "      <td>72.275864</td>\n",
       "    </tr>\n",
       "  </tbody>\n",
       "</table>\n",
       "</div>"
      ],
      "text/plain": [
       "                   BP       SHEL         SPY         IBB         XBI  \\\n",
       "Date                                                                   \n",
       "2022-01-03  25.052795  41.769161  464.923431  151.588593  115.436050   \n",
       "2022-01-04  26.132891  43.013634  464.767639  147.529526  111.356194   \n",
       "2022-01-05  25.968132  43.032349  455.843109  141.769226  105.226402   \n",
       "\n",
       "                   FBT        PBE        BIB  \n",
       "Date                                          \n",
       "2022-01-03  163.070007  71.414108  82.282516  \n",
       "2022-01-04  159.059998  68.724709  78.313835  \n",
       "2022-01-05  154.229996  65.825348  72.275864  "
      ]
     },
     "execution_count": 3,
     "metadata": {},
     "output_type": "execute_result"
    }
   ],
   "source": [
    "start = datetime.datetime(2022, 1, 1)\n",
    "end = datetime.datetime(2022, 12, 31)\n",
    "result_dict = {}\n",
    "for ticker in symbols:\n",
    "    y_data = yf.download(ticker, start=start, end=end)\n",
    "    closes = pd.Series(y_data['Adj Close'])\n",
    "    result_dict[ticker] = closes\n",
    "\n",
    "data = pd.DataFrame(result_dict)\n",
    "data.head(3)"
   ]
  },
  {
   "cell_type": "code",
   "execution_count": 4,
   "id": "7f13963c",
   "metadata": {
    "scrolled": false
   },
   "outputs": [
    {
     "data": {
      "text/html": [
       "<div>\n",
       "<style scoped>\n",
       "    .dataframe tbody tr th:only-of-type {\n",
       "        vertical-align: middle;\n",
       "    }\n",
       "\n",
       "    .dataframe tbody tr th {\n",
       "        vertical-align: top;\n",
       "    }\n",
       "\n",
       "    .dataframe thead th {\n",
       "        text-align: right;\n",
       "    }\n",
       "</style>\n",
       "<table border=\"1\" class=\"dataframe\">\n",
       "  <thead>\n",
       "    <tr style=\"text-align: right;\">\n",
       "      <th></th>\n",
       "      <th>BP</th>\n",
       "      <th>SHEL</th>\n",
       "      <th>SPY</th>\n",
       "      <th>IBB</th>\n",
       "      <th>XBI</th>\n",
       "      <th>FBT</th>\n",
       "      <th>PBE</th>\n",
       "      <th>BIB</th>\n",
       "    </tr>\n",
       "    <tr>\n",
       "      <th>Date</th>\n",
       "      <th></th>\n",
       "      <th></th>\n",
       "      <th></th>\n",
       "      <th></th>\n",
       "      <th></th>\n",
       "      <th></th>\n",
       "      <th></th>\n",
       "      <th></th>\n",
       "    </tr>\n",
       "  </thead>\n",
       "  <tbody>\n",
       "    <tr>\n",
       "      <th>2022-01-04</th>\n",
       "      <td>1.000000</td>\n",
       "      <td>1.000000</td>\n",
       "      <td>1.000000</td>\n",
       "      <td>1.000000</td>\n",
       "      <td>1.000000</td>\n",
       "      <td>1.000000</td>\n",
       "      <td>1.000000</td>\n",
       "      <td>1.000000</td>\n",
       "    </tr>\n",
       "    <tr>\n",
       "      <th>2022-01-05</th>\n",
       "      <td>0.993695</td>\n",
       "      <td>1.000435</td>\n",
       "      <td>0.980798</td>\n",
       "      <td>0.960955</td>\n",
       "      <td>0.944953</td>\n",
       "      <td>0.969634</td>\n",
       "      <td>0.957812</td>\n",
       "      <td>0.922900</td>\n",
       "    </tr>\n",
       "    <tr>\n",
       "      <th>2022-01-06</th>\n",
       "      <td>1.009107</td>\n",
       "      <td>1.016750</td>\n",
       "      <td>0.979876</td>\n",
       "      <td>0.960415</td>\n",
       "      <td>0.944684</td>\n",
       "      <td>0.972715</td>\n",
       "      <td>0.961303</td>\n",
       "      <td>0.920092</td>\n",
       "    </tr>\n",
       "    <tr>\n",
       "      <th>2022-01-07</th>\n",
       "      <td>1.039230</td>\n",
       "      <td>1.028279</td>\n",
       "      <td>0.976003</td>\n",
       "      <td>0.947805</td>\n",
       "      <td>0.924838</td>\n",
       "      <td>0.960267</td>\n",
       "      <td>0.949665</td>\n",
       "      <td>0.905157</td>\n",
       "    </tr>\n",
       "    <tr>\n",
       "      <th>2022-01-10</th>\n",
       "      <td>1.035377</td>\n",
       "      <td>1.022623</td>\n",
       "      <td>0.974788</td>\n",
       "      <td>0.958662</td>\n",
       "      <td>0.926185</td>\n",
       "      <td>0.967497</td>\n",
       "      <td>0.960140</td>\n",
       "      <td>0.920475</td>\n",
       "    </tr>\n",
       "    <tr>\n",
       "      <th>...</th>\n",
       "      <td>...</td>\n",
       "      <td>...</td>\n",
       "      <td>...</td>\n",
       "      <td>...</td>\n",
       "      <td>...</td>\n",
       "      <td>...</td>\n",
       "      <td>...</td>\n",
       "      <td>...</td>\n",
       "    </tr>\n",
       "    <tr>\n",
       "      <th>2022-12-23</th>\n",
       "      <td>1.280854</td>\n",
       "      <td>1.291287</td>\n",
       "      <td>0.814830</td>\n",
       "      <td>0.893307</td>\n",
       "      <td>0.726293</td>\n",
       "      <td>0.975229</td>\n",
       "      <td>0.922025</td>\n",
       "      <td>0.743930</td>\n",
       "    </tr>\n",
       "    <tr>\n",
       "      <th>2022-12-27</th>\n",
       "      <td>1.281952</td>\n",
       "      <td>1.293299</td>\n",
       "      <td>0.811617</td>\n",
       "      <td>0.874633</td>\n",
       "      <td>0.705280</td>\n",
       "      <td>0.956306</td>\n",
       "      <td>0.906314</td>\n",
       "      <td>0.710985</td>\n",
       "    </tr>\n",
       "    <tr>\n",
       "      <th>2022-12-28</th>\n",
       "      <td>1.265123</td>\n",
       "      <td>1.264022</td>\n",
       "      <td>0.801530</td>\n",
       "      <td>0.868679</td>\n",
       "      <td>0.707884</td>\n",
       "      <td>0.949516</td>\n",
       "      <td>0.902822</td>\n",
       "      <td>0.705750</td>\n",
       "    </tr>\n",
       "    <tr>\n",
       "      <th>2022-12-29</th>\n",
       "      <td>1.269513</td>\n",
       "      <td>1.266481</td>\n",
       "      <td>0.815958</td>\n",
       "      <td>0.888639</td>\n",
       "      <td>0.738775</td>\n",
       "      <td>0.972023</td>\n",
       "      <td>0.921443</td>\n",
       "      <td>0.732182</td>\n",
       "    </tr>\n",
       "    <tr>\n",
       "      <th>2022-12-30</th>\n",
       "      <td>1.277927</td>\n",
       "      <td>1.272738</td>\n",
       "      <td>0.813809</td>\n",
       "      <td>0.888300</td>\n",
       "      <td>0.745330</td>\n",
       "      <td>0.969005</td>\n",
       "      <td>0.923771</td>\n",
       "      <td>0.736779</td>\n",
       "    </tr>\n",
       "  </tbody>\n",
       "</table>\n",
       "<p>250 rows × 8 columns</p>\n",
       "</div>"
      ],
      "text/plain": [
       "                  BP      SHEL       SPY       IBB       XBI       FBT  \\\n",
       "Date                                                                     \n",
       "2022-01-04  1.000000  1.000000  1.000000  1.000000  1.000000  1.000000   \n",
       "2022-01-05  0.993695  1.000435  0.980798  0.960955  0.944953  0.969634   \n",
       "2022-01-06  1.009107  1.016750  0.979876  0.960415  0.944684  0.972715   \n",
       "2022-01-07  1.039230  1.028279  0.976003  0.947805  0.924838  0.960267   \n",
       "2022-01-10  1.035377  1.022623  0.974788  0.958662  0.926185  0.967497   \n",
       "...              ...       ...       ...       ...       ...       ...   \n",
       "2022-12-23  1.280854  1.291287  0.814830  0.893307  0.726293  0.975229   \n",
       "2022-12-27  1.281952  1.293299  0.811617  0.874633  0.705280  0.956306   \n",
       "2022-12-28  1.265123  1.264022  0.801530  0.868679  0.707884  0.949516   \n",
       "2022-12-29  1.269513  1.266481  0.815958  0.888639  0.738775  0.972023   \n",
       "2022-12-30  1.277927  1.272738  0.813809  0.888300  0.745330  0.969005   \n",
       "\n",
       "                 PBE       BIB  \n",
       "Date                            \n",
       "2022-01-04  1.000000  1.000000  \n",
       "2022-01-05  0.957812  0.922900  \n",
       "2022-01-06  0.961303  0.920092  \n",
       "2022-01-07  0.949665  0.905157  \n",
       "2022-01-10  0.960140  0.920475  \n",
       "...              ...       ...  \n",
       "2022-12-23  0.922025  0.743930  \n",
       "2022-12-27  0.906314  0.710985  \n",
       "2022-12-28  0.902822  0.705750  \n",
       "2022-12-29  0.921443  0.732182  \n",
       "2022-12-30  0.923771  0.736779  \n",
       "\n",
       "[250 rows x 8 columns]"
      ]
     },
     "execution_count": 4,
     "metadata": {},
     "output_type": "execute_result"
    }
   ],
   "source": [
    "# transform prices into cumulative returns\n",
    "data = (data.pct_change()+1).cumprod()\n",
    "data = data.iloc[1:]\n",
    "data = data / data.iloc[0]\n",
    "data"
   ]
  },
  {
   "cell_type": "code",
   "execution_count": 5,
   "id": "dad16f1d",
   "metadata": {},
   "outputs": [
    {
     "data": {
      "text/plain": [
       "Index(['BP', 'SHEL', 'SPY', 'IBB', 'XBI', 'FBT', 'PBE', 'BIB'], dtype='object')"
      ]
     },
     "execution_count": 5,
     "metadata": {},
     "output_type": "execute_result"
    }
   ],
   "source": [
    "data.columns"
   ]
  },
  {
   "cell_type": "code",
   "execution_count": 6,
   "id": "482e056d",
   "metadata": {},
   "outputs": [],
   "source": [
    "# input data\n",
    "s = [symbol for symbol in symbols if symbol != 'BP']\n",
    "# target asset\n",
    "y = ['BP']"
   ]
  },
  {
   "cell_type": "markdown",
   "id": "e9a9de0e",
   "metadata": {},
   "source": [
    "# PCA scree plot"
   ]
  },
  {
   "cell_type": "code",
   "execution_count": 7,
   "id": "c1073b09",
   "metadata": {},
   "outputs": [
    {
     "data": {
      "text/plain": [
       "[<matplotlib.lines.Line2D at 0x12793eff0>]"
      ]
     },
     "execution_count": 7,
     "metadata": {},
     "output_type": "execute_result"
    },
    {
     "data": {
      "image/png": "[encoded data removed]",
      "text/plain": [
       "<Figure size 640x480 with 1 Axes>"
      ]
     },
     "metadata": {},
     "output_type": "display_data"
    }
   ],
   "source": [
    "from sklearn.decomposition import PCA\n",
    "\n",
    "Xtmp = data[s] # select data without the target asset\n",
    "pca = PCA(n_components=len(s))\n",
    "pca.fit(Xtmp)\n",
    "\n",
    "n_comp = np.arange(1, len(s)+1)\n",
    "plt.plot(n_comp, pca.explained_variance_ratio_)"
   ]
  },
  {
   "cell_type": "code",
   "execution_count": 8,
   "id": "5fd35d02",
   "metadata": {
    "scrolled": true
   },
   "outputs": [
    {
     "data": {
      "text/plain": [
       "array([0.6847219 , 0.20899449, 0.07863671, 0.01788126, 0.0058179 ,\n",
       "       0.0030976 , 0.00085013])"
      ]
     },
     "execution_count": 8,
     "metadata": {},
     "output_type": "execute_result"
    }
   ],
   "source": [
    "pca.explained_variance_ratio_"
   ]
  },
  {
   "cell_type": "markdown",
   "id": "b7eefa0a",
   "metadata": {},
   "source": [
    "# Parameter selection"
   ]
  },
  {
   "cell_type": "code",
   "execution_count": 9,
   "id": "cdfda96a",
   "metadata": {},
   "outputs": [],
   "source": [
    "from sklearn.svm import SVR\n",
    "from sklearn.preprocessing import StandardScaler\n",
    "from sklearn.pipeline import make_pipeline\n",
    "from itertools import product\n",
    "\n",
    "def compute_votes(data, pca_comp, beta, lookback, Cs, gammas, epsilons):\n",
    "    '''\n",
    "    compute daily votes of the models with the given parameters\n",
    "    '''\n",
    "    # start with equal weights\n",
    "    weights = np.ones(len(Cs)*len(gammas)*len(epsilons))\n",
    "    weights = weights/sum(weights) # normalize so that weights sum to 1\n",
    "\n",
    "    daily_votes = [x for x in np.zeros(len(data.index))]\n",
    "\n",
    "    for t in range(lookback,len(data.index)-1):\n",
    "        predictions = []\n",
    "        for C,gamma,epsilon in product(Cs,gammas,epsilons):\n",
    "            model = make_pipeline(StandardScaler(), PCA(n_components=pca_comp), \n",
    "                                  SVR(C=C, gamma=gamma, epsilon=epsilon))\n",
    "            X_train = data[s].iloc[t-lookback:t+1].values\n",
    "            y_train = data[y].iloc[t-lookback:t+1].values.flatten()\n",
    "            model.fit(X_train,y_train)\n",
    "            X_test = data[s].iloc[t].values.reshape(1,-1)\n",
    "            yhat = model.predict(X_test)\n",
    "            predictions.append(yhat)\n",
    "        # log all votes\n",
    "        votes = -np.sign(data[y].iloc[t].values.flatten() - np.array(predictions)) # if price>fair, go short\n",
    "        final_vote = np.dot(weights,votes)\n",
    "        daily_votes[t] = final_vote\n",
    "\n",
    "        # update weights based on true direction\n",
    "        true_direction = np.sign((data[y].iloc[t+1] - data[y].iloc[t]).values.flatten()) \n",
    "        if final_vote!=true_direction:\n",
    "            incorrect_votes_ind = np.where(votes!=true_direction)[0]\n",
    "            weights[incorrect_votes_ind] = beta * weights[incorrect_votes_ind]\n",
    "            weights = weights/sum(weights)\n",
    "\n",
    "    return daily_votes"
   ]
  },
  {
   "cell_type": "code",
   "execution_count": 10,
   "id": "cad079b1",
   "metadata": {},
   "outputs": [],
   "source": [
    "# SVR hyperparameters\n",
    "Cs = set((0.0001, 0.001, 0.01, 0.1, 1, 10, 100, 1000))\n",
    "gammas = set((0.0001, 0.001, 0.01, 0.1, 1, 10, 100, 1000))\n",
    "epsilons = set((0.00000001, 0.0000001, 0.000001, 0.00001, 0.0001, 0.001, 0.01, 0.1))"
   ]
  },
  {
   "cell_type": "code",
   "execution_count": 55,
   "id": "b7b5646e",
   "metadata": {},
   "outputs": [],
   "source": [
    "# strategy parameters\n",
    "betas = [0.1,0.3] # ,0.5,0.7] # betas for downgrading weights\n",
    "lookbacks = [20] # how many last trading days to include in model training\n",
    "pca_comps = [1] # number of principal components to use"
   ]
  },
  {
   "cell_type": "code",
   "execution_count": 56,
   "metadata": {},
   "outputs": [],
   "source": [
    "columns = ['Beta', 'Lookback', 'PCA components', 'Num wins', 'Num losses', 'Pct Win', \n",
    "           'Avg Win', 'Avg Loss', 'Total Return', 'APR', 'Sharpe', 'Correlation with traded asset']\n",
    "results = pd.DataFrame(columns=columns)\n",
    "\n",
    "vote_arrs = [compute_votes(data, pca_comp, beta, lookback, Cs, gammas, epsilons)\n",
    "             for pca_comp,beta,lookback in product(pca_comps,betas,lookbacks)]\n",
    "\n",
    "vote_arrs"
   ]
  },
  {
   "cell_type": "code",
   "execution_count": 53,
   "id": "72f9e2fa",
   "metadata": {},
   "outputs": [
    {
     "name": "stderr",
     "output_type": "stream",
     "text": [
      "/var/folders/2x/p6dc896s1_zfw89hllb_6gbw0000gn/T/ipykernel_43368/3352795804.py:43: FutureWarning: The behavior of DataFrame concatenation with empty or all-NA entries is deprecated. In a future version, this will no longer exclude empty or all-NA columns when determining the result dtypes. To retain the old behavior, exclude the relevant entries before the concat operation.\n",
      "  results = pd.concat([results, result], ignore_index=True)\n"
     ]
    }
   ],
   "source": [
    "columns = ['Beta', 'Lookback', 'PCA components', 'Num wins', 'Num losses', 'Pct Win', \n",
    "           'Avg Win', 'Avg Loss', 'Total Return', 'APR', 'Sharpe', 'Correlation with traded asset']\n",
    "results = pd.DataFrame(columns=columns)\n",
    "\n",
    "# for pca_comp,beta,lookback in product(pca_comps,betas,lookbacks):\n",
    "#     daily_votes = compute_votes(data, pca_comp=pca_comp, beta=beta, lookback=lookback, \n",
    "#                                 Cs=Cs, gammas=gammas, epsilons=epsilons)\n",
    "for i, obj in enumerate(product(pca_comps, betas, lookbacks)):\n",
    "    daily_votes = vote_arrs[i]\n",
    "    pca_comp = obj[0]\n",
    "    beta = obj[1]\n",
    "    lookback = obj[2]\n",
    "    \n",
    "    datatmp = data[['BP']].iloc[lookback+50:].copy() # skip first 50 days\n",
    "    datatmp['vote'] = daily_votes[lookback+50:]\n",
    "    datatmp['vote'] = datatmp['vote'].shift()\n",
    "    datatmp['BP_returns'] = datatmp['BP'].pct_change()\n",
    "    datatmp.dropna(inplace=True)\n",
    "    # ar = np.sign(datatmp['vote'])\n",
    "    datatmp['alg_returns'] = (np.sign(datatmp['vote']) * datatmp['BP_returns'])\n",
    "    datatmp['alg_cumret'] = np.cumprod(datatmp['alg_returns']+1)\n",
    "    # continue\n",
    "    \n",
    "    datatmp.dropna(inplace=True)\n",
    "    \n",
    "    num_wins = (np.sign(datatmp[['BP_returns']].values) == np.sign(datatmp[['vote']].values)).sum()\n",
    "    num_losses = (np.sign(datatmp[['BP_returns']].values) != np.sign(datatmp[['vote']].values)).sum()\n",
    "    pct_win = num_wins / (num_wins + num_losses)\n",
    "    avg_win = abs(datatmp[np.sign(datatmp['BP_returns']) == np.sign(datatmp['vote'])]['BP_returns']).sum()/num_wins\n",
    "    avg_loss = abs(datatmp[np.sign(datatmp['BP_returns']) != np.sign(datatmp['vote'])]['BP_returns']).sum()/num_losses\n",
    "    tr_num = (datatmp[['alg_cumret']].iloc[-1].values[0] - datatmp[['alg_cumret']].iloc[0].values[0])\n",
    "    tr_den = datatmp[['alg_cumret']].iloc[0].values[0]\n",
    "    total_return = tr_num / tr_den\n",
    "    apr = (1+total_return)**(252/len(datatmp.index)) - 1\n",
    "    sharpe = np.sqrt(252)*datatmp['alg_returns'].mean() / datatmp['alg_returns'].std()\n",
    "    corrcoef = np.nan # np.corrcoef(datatmp['BP_returns'], datatmp['alg_returns'])[0,1]\n",
    "    \n",
    "    result = pd.DataFrame({'Beta':beta, 'Lookback':lookback, 'PCA components':pca_comp, \n",
    "                           'Num wins':num_wins, 'Num losses':num_losses, 'Pct Win':pct_win, \n",
    "                           'Avg Win':avg_win, 'Avg Loss':avg_loss, 'Total Return':total_return, \n",
    "                           'APR':apr, 'Sharpe':sharpe, 'Correlation with traded asset':corrcoef}, \n",
    "                           index=[0])\n",
    "    results = pd.concat([results, result], ignore_index=True)\n",
    "    # results = results.append({'Beta':beta, 'Lookback':lookback, 'PCA components':pca_comp, \n",
    "    #                           'Num wins':num_wins, 'Num losses':num_losses, 'Pct Win':pct_win, \n",
    "    #                           'Avg Win':avg_win, 'Avg Loss':avg_loss, 'Total Return':total_return, \n",
    "    #                           'APR':apr, 'Sharpe':sharpe, 'Correlation with traded asset':corrcoef}, \n",
    "    #                           ignore_index=True)"
   ]
  },
  {
   "cell_type": "code",
   "execution_count": 54,
   "id": "c5e8e1a8",
   "metadata": {},
   "outputs": [
    {
     "data": {
      "text/html": [
       "<div>\n",
       "<style scoped>\n",
       "    .dataframe tbody tr th:only-of-type {\n",
       "        vertical-align: middle;\n",
       "    }\n",
       "\n",
       "    .dataframe tbody tr th {\n",
       "        vertical-align: top;\n",
       "    }\n",
       "\n",
       "    .dataframe thead th {\n",
       "        text-align: right;\n",
       "    }\n",
       "</style>\n",
       "<table border=\"1\" class=\"dataframe\">\n",
       "  <thead>\n",
       "    <tr style=\"text-align: right;\">\n",
       "      <th></th>\n",
       "      <th>Beta</th>\n",
       "      <th>Lookback</th>\n",
       "      <th>PCA components</th>\n",
       "      <th>Num wins</th>\n",
       "      <th>Num losses</th>\n",
       "      <th>Pct Win</th>\n",
       "      <th>Avg Win</th>\n",
       "      <th>Avg Loss</th>\n",
       "      <th>Total Return</th>\n",
       "      <th>APR</th>\n",
       "      <th>Sharpe</th>\n",
       "      <th>Correlation with traded asset</th>\n",
       "    </tr>\n",
       "  </thead>\n",
       "  <tbody>\n",
       "    <tr>\n",
       "      <th>0</th>\n",
       "      <td>0.1</td>\n",
       "      <td>20</td>\n",
       "      <td>1</td>\n",
       "      <td>85</td>\n",
       "      <td>94</td>\n",
       "      <td>0.47486</td>\n",
       "      <td>0.017603</td>\n",
       "      <td>0.0154</td>\n",
       "      <td>0.006928</td>\n",
       "      <td>0.009767</td>\n",
       "      <td>0.196688</td>\n",
       "      <td>NaN</td>\n",
       "    </tr>\n",
       "  </tbody>\n",
       "</table>\n",
       "</div>"
      ],
      "text/plain": [
       "   Beta Lookback PCA components Num wins Num losses  Pct Win   Avg Win  \\\n",
       "0   0.1       20              1       85         94  0.47486  0.017603   \n",
       "\n",
       "   Avg Loss  Total Return       APR    Sharpe  Correlation with traded asset  \n",
       "0    0.0154      0.006928  0.009767  0.196688                            NaN  "
      ]
     },
     "execution_count": 54,
     "metadata": {},
     "output_type": "execute_result"
    }
   ],
   "source": [
    "results"
   ]
  },
  {
   "cell_type": "code",
   "execution_count": null,
   "id": "31e51219",
   "metadata": {},
   "outputs": [],
   "source": [
    "# strategy parameters\n",
    "betas = [0.5] # betas for downgrading weights\n",
    "lookbacks = [20] # how many last trading days to include in model training\n",
    "pca_comps = [1,2,3] # number of principal components to use"
   ]
  },
  {
   "cell_type": "code",
   "execution_count": null,
   "id": "19dba104",
   "metadata": {},
   "outputs": [],
   "source": [
    "columns = ['Beta', 'Lookback', 'PCA components', 'Num wins', 'Num losses', 'Pct Win', \n",
    "           'Avg Win', 'Avg Loss', 'Total Return', 'APR', 'Sharpe', 'Correlation with traded asset']\n",
    "results = pd.DataFrame(columns=columns)\n",
    "\n",
    "for pca_comp,beta,lookback in product(pca_comps,betas,lookbacks):\n",
    "    daily_votes = compute_votes(data, pca_comp=pca_comp, beta=beta, lookback=lookback, \n",
    "                                Cs=Cs, gammas=gammas, epsilons=epsilons)\n",
    "    \n",
    "    datatmp = data[['BP']].iloc[lookback+50:].copy() # skip first 50 days\n",
    "    datatmp['vote'] = daily_votes[lookback+50:]\n",
    "    datatmp['vote'] = datatmp['vote'].shift()\n",
    "    datatmp['BP_returns'] = datatmp['BP'].pct_change()\n",
    "    datatmp['alg_returns'] = (np.sign(datatmp['vote']) * datatmp['BP_returns'])\n",
    "    datatmp['alg_cumret'] = np.cumprod(datatmp['alg_returns']+1)\n",
    "    \n",
    "    datatmp.dropna(inplace=True)\n",
    "    \n",
    "    num_wins = (np.sign(datatmp[['BP_returns']].values) == np.sign(datatmp[['vote']].values)).sum()\n",
    "    num_losses = (np.sign(datatmp[['BP_returns']].values) != np.sign(datatmp[['vote']].values)).sum()\n",
    "    pct_win = num_wins / (num_wins + num_losses)\n",
    "    avg_win = abs(datatmp[np.sign(datatmp['BP_returns']) == np.sign(datatmp['vote'])]['BP_returns']).sum()/num_wins\n",
    "    avg_loss = abs(datatmp[np.sign(datatmp['BP_returns']) != np.sign(datatmp['vote'])]['BP_returns']).sum()/num_losses\n",
    "    total_return = (datatmp['alg_cumret'][-1] - datatmp['alg_cumret'][0]) / datatmp['alg_cumret'][0]\n",
    "    apr = (1+total_return)**(252/len(datatmp.index)) - 1\n",
    "    sharpe = np.sqrt(252)*datatmp['alg_returns'].mean() / datatmp['alg_returns'].std()\n",
    "    corrcoef = np.corrcoef(datatmp['BP_returns'], datatmp['alg_returns'])[0,1]\n",
    "    \n",
    "    results = results.append({'Beta':beta, 'Lookback':lookback, 'PCA components':pca_comp, \n",
    "                              'Num wins':num_wins, 'Num losses':num_losses, 'Pct Win':pct_win, \n",
    "                              'Avg Win':avg_win, 'Avg Loss':avg_loss, 'Total Return':total_return, \n",
    "                              'APR':apr, 'Sharpe':sharpe, 'Correlation with traded asset':corrcoef}, \n",
    "                              ignore_index=True)"
   ]
  },
  {
   "cell_type": "code",
   "execution_count": null,
   "id": "0cd8cc04",
   "metadata": {},
   "outputs": [],
   "source": [
    "results"
   ]
  },
  {
   "cell_type": "markdown",
   "id": "3a3ec758",
   "metadata": {},
   "source": [
    "# Model: beta=0.5, pca_comp=1"
   ]
  },
  {
   "cell_type": "code",
   "execution_count": null,
   "id": "701d4fdf",
   "metadata": {},
   "outputs": [],
   "source": [
    "daily_votes = compute_votes(data, pca_comp=1, beta=0.5, lookback=20, \n",
    "                            Cs=Cs, gammas=gammas, epsilons=epsilons)\n",
    "    \n",
    "datatmp = data[['BP']].iloc[lookback+50:].copy() # skip first 50 days\n",
    "datatmp['vote'] = daily_votes[lookback+50:]\n",
    "datatmp['vote'] = datatmp['vote'].shift()\n",
    "datatmp['BP_returns'] = datatmp['BP'].pct_change()\n",
    "datatmp['alg_returns'] = (np.sign(datatmp['vote']) * datatmp['BP_returns'])\n",
    "datatmp['alg_cumret'] = np.cumprod(datatmp['alg_returns']+1)\n",
    "datatmp.dropna(inplace=True)"
   ]
  },
  {
   "cell_type": "code",
   "execution_count": null,
   "id": "4323abb3",
   "metadata": {},
   "outputs": [],
   "source": [
    "plt.figure(figsize=(18,6))\n",
    "plt.plot(datatmp[['BP']]/datatmp[['BP']].iloc[0], label='Target asset (BP)')\n",
    "plt.plot(datatmp[['alg_cumret']]/datatmp[['alg_cumret']].iloc[0], label='Algorithm')\n",
    "plt.legend()"
   ]
  },
  {
   "cell_type": "code",
   "execution_count": null,
   "id": "de56bd5b",
   "metadata": {},
   "outputs": [],
   "source": [
    "datatmp['SPY'] = data.loc[datatmp.index, ['SPY']]\n",
    "\n",
    "plt.figure(figsize=(18,6))\n",
    "plt.plot(datatmp[['SPY']]/datatmp[['SPY']].iloc[0], label='Market (SPY)')\n",
    "plt.plot(datatmp[['alg_cumret']]/datatmp[['alg_cumret']].iloc[0], label='Algorithm')\n",
    "plt.legend()"
   ]
  },
  {
   "cell_type": "code",
   "execution_count": null,
   "id": "19999102",
   "metadata": {},
   "outputs": [],
   "source": [
    "# create an indicator of positions change\n",
    "# -1 when we change position from long to short or vice versa\n",
    "datatmp['pos_change'] = np.sign(datatmp['vote'])*np.sign(datatmp['vote'].shift())\n",
    "datatmp['pos_change'][datatmp['pos_change']!=-1]=0\n",
    "# subtract 0.2% fee from the return when we change position\n",
    "datatmp['alg_returns_tc'] = datatmp['alg_returns'] + 0.002 * datatmp['pos_change']\n",
    "# calculate cumulative returns with transaction costs\n",
    "datatmp['alg_cumret_tc'] = np.cumprod(datatmp['alg_returns_tc']+1)"
   ]
  },
  {
   "cell_type": "code",
   "execution_count": null,
   "id": "41cefa10",
   "metadata": {},
   "outputs": [],
   "source": [
    "plt.figure(figsize=(18,6))\n",
    "plt.plot(datatmp[['BP']]/datatmp[['BP']].iloc[0], label='Target asset (BP)')\n",
    "plt.plot(datatmp[['alg_cumret_tc']]/datatmp[['alg_cumret_tc']].iloc[0], label='Algorithm with TC')\n",
    "plt.legend()"
   ]
  },
  {
   "cell_type": "code",
   "execution_count": null,
   "id": "0604c1aa",
   "metadata": {},
   "outputs": [],
   "source": [
    "def calculate_metrics(cumret):\n",
    "    '''\n",
    "    calculate performance metrics from cumulative returns\n",
    "    '''\n",
    "    total_return = (cumret[-1] - cumret[0])/cumret[0]\n",
    "    apr = (1+total_return)**(252/len(cumret)) - 1\n",
    "    sharpe = np.sqrt(252) * np.nanmean(cumret.pct_change()) / np.nanstd(cumret.pct_change())\n",
    "    \n",
    "    # maxdd and maxddd\n",
    "    highwatermark=np.zeros(cumret.shape)\n",
    "    drawdown=np.zeros(cumret.shape)\n",
    "    drawdownduration=np.zeros(cumret.shape)\n",
    "    for t in np.arange(1, cumret.shape[0]):\n",
    "        highwatermark[t]=np.maximum(highwatermark[t-1], cumret[t])\n",
    "        drawdown[t]=cumret[t]/highwatermark[t]-1\n",
    "        if drawdown[t]==0:\n",
    "            drawdownduration[t]=0\n",
    "        else:\n",
    "            drawdownduration[t]=drawdownduration[t-1]+1\n",
    "    maxDD=np.min(drawdown)\n",
    "    maxDDD=np.max(drawdownduration)\n",
    "    \n",
    "    return total_return, apr, sharpe, maxDD, maxDDD"
   ]
  },
  {
   "cell_type": "code",
   "execution_count": null,
   "id": "87cb46ac",
   "metadata": {
    "scrolled": true
   },
   "outputs": [],
   "source": [
    "metrics = pd.DataFrame(columns=['Total Return', 'APR', 'Sharpe', 'MaxDrawdown', 'MaxDrawdownDuration'], \n",
    "                       index=['BP', 'SPY', 'Algo', 'Algo with TC'])\n",
    "\n",
    "metrics.loc['BP',:] = calculate_metrics(datatmp['BP'])\n",
    "metrics.loc['SPY',:] = calculate_metrics(datatmp['SPY'])\n",
    "metrics.loc['Algo',:] = calculate_metrics(datatmp['alg_cumret'])\n",
    "metrics.loc['Algo with TC',:] = calculate_metrics(datatmp['alg_cumret_tc'])\n",
    "\n",
    "metrics"
   ]
  },
  {
   "cell_type": "code",
   "execution_count": null,
   "id": "0e28720a",
   "metadata": {},
   "outputs": [],
   "source": [
    "datatmp[['BP', 'SPY', 'alg_cumret', 'alg_cumret_tc']].pct_change().corr()"
   ]
  }
 ],
 "metadata": {
  "kernelspec": {
   "display_name": "Python 3",
   "language": "python",
   "name": "python3"
  },
  "language_info": {
   "codemirror_mode": {
    "name": "ipython",
    "version": 3
   },
   "file_extension": ".py",
   "mimetype": "text/x-python",
   "name": "python",
   "nbconvert_exporter": "python",
   "pygments_lexer": "ipython3",
   "version": "3.12.0"
  }
 },
 "nbformat": 4,
 "nbformat_minor": 5
}
